{
  "nbformat": 4,
  "nbformat_minor": 0,
  "metadata": {
    "colab": {
      "provenance": []
    },
    "kernelspec": {
      "name": "python3",
      "display_name": "Python 3"
    },
    "language_info": {
      "name": "python"
    }
  },
  "cells": [
    {
      "cell_type": "code",
      "execution_count": 5,
      "metadata": {
        "colab": {
          "base_uri": "https://localhost:8080/"
        },
        "id": "MvFIwiIQfX3B",
        "outputId": "c074bfcf-a7cf-433f-e39f-793bbf79efe2"
      },
      "outputs": [
        {
          "output_type": "stream",
          "name": "stdout",
          "text": [
            "Data transformation complete. Output saved to: transformed_data.csv\n"
          ]
        }
      ],
      "source": [
        "import pandas as pd\n",
        "from datetime import datetime, timedelta\n",
        "\n",
        "def read_input_csv(file_path):\n",
        "    \"\"\"Reads the input CSV file and returns a DataFrame.\"\"\"\n",
        "    return pd.read_csv(file_path)\n",
        "\n",
        "def identify_and_convert_date_columns(df):\n",
        "    \"\"\"Identifies date columns and converts them to datetime.\"\"\"\n",
        "    date_columns = [col for col in df.columns if 'date' in col.lower()]\n",
        "    for col in date_columns:\n",
        "        df[col] = pd.to_datetime(df[col], errors='coerce')\n",
        "    return date_columns\n",
        "\n",
        "def calculate_tenure(row):\n",
        "    \"\"\"Calculates tenure in years, rounded to the nearest whole number.\"\"\"\n",
        "    date_of_exit = row['Date of Exit'] if pd.notnull(row['Date of Exit']) else pd.Timestamp(datetime.now())\n",
        "    tenure_years = (date_of_exit - row['Date of Joining']).days / 365.25\n",
        "    return round(tenure_years)\n",
        "\n",
        "def expand_records(df, date_columns):\n",
        "    \"\"\"Includes 'Tenure in Org' calculation and adds 'Variable Pay' column with a default value of 0.\"\"\"\n",
        "    all_records = []\n",
        "\n",
        "    for _, row in df.iterrows():\n",
        "        dates = sorted({row[col] for col in date_columns if pd.notnull(row[col])})\n",
        "\n",
        "        record = {'Employee Code': row['Employee Code'], 'Effective Date': row['Date of Joining']}\n",
        "        for col in df.columns:\n",
        "            if 'date' not in col.lower() and col != 'Employee Code':\n",
        "                record[col.split(' ')[0]] = row[col]\n",
        "\n",
        "        # Add 'Tenure in Org' calculation\n",
        "        record['Tenure in Org'] = calculate_tenure(row)\n",
        "        # Initialize 'Variable Pay' to 0\n",
        "        record['Variable Pay'] = 0\n",
        "\n",
        "        all_records.append(record.copy())\n",
        "\n",
        "        for date in dates:\n",
        "            new_record = record.copy()\n",
        "            for col in ['Compensation 1', 'Compensation 2', 'Review 1', 'Review 2', 'Engagement 1', 'Engagement 2']:\n",
        "                date_col = f\"{col} date\"\n",
        "                if date == row.get(date_col):\n",
        "                    new_record[col.split(' ')[0]] = row[col]\n",
        "\n",
        "            if new_record != record:\n",
        "                all_records[-1]['End Date'] = date - timedelta(days=1)\n",
        "                new_record['Effective Date'] = date\n",
        "                all_records.append(new_record)\n",
        "                record = new_record\n",
        "\n",
        "        if all_records[-1] == record:\n",
        "            all_records[-1]['End Date'] = datetime(2100, 1, 1)\n",
        "        else:\n",
        "            all_records.pop()\n",
        "\n",
        "    return pd.DataFrame(all_records)\n",
        "\n",
        "def save_transformed_data(df, output_file_path):\n",
        "    \"\"\"Saves the transformed DataFrame to a CSV file.\"\"\"\n",
        "    df.to_csv(output_file_path, index=False)\n",
        "\n",
        "# Paths for the input and output files\n",
        "input_file_path = 'input.csv'  # Adjust this path as necessary\n",
        "output_file_path = 'transformed_data.csv'\n",
        "\n",
        "# Transforming the data\n",
        "input_df = read_input_csv(input_file_path)\n",
        "date_columns = identify_and_convert_date_columns(input_df)\n",
        "transformed_df = expand_records(input_df, date_columns)\n",
        "\n",
        "save_transformed_data(transformed_df, output_file_path)\n",
        "\n",
        "print(\"Data transformation complete. Output saved to:\", output_file_path)\n"
      ]
    }
  ]
}